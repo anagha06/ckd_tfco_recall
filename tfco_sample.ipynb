{
 "cells": [
  {
   "cell_type": "markdown",
   "metadata": {},
   "source": [
    "## https://github.com/google-research/tensorflow_constrained_optimization/blob/master/README.md"
   ]
  },
  {
   "cell_type": "code",
   "execution_count": 1,
   "metadata": {},
   "outputs": [],
   "source": [
    "import math\n",
    "import numpy as np\n",
    "from six.moves import xrange\n",
    "import tensorflow as tf\n",
    "\n",
    "import tensorflow_constrained_optimization as tfco"
   ]
  },
  {
   "cell_type": "code",
   "execution_count": 2,
   "metadata": {},
   "outputs": [],
   "source": [
    "# Create a simulated 10-dimensional training dataset consisting of 1000 labeled\n",
    "# examples, of which 800 are labeled correctly and 200 are mislabeled.\n",
    "num_examples = 1000\n",
    "num_mislabeled_examples = 200\n",
    "dimension = 10\n",
    "# We will constrain the recall to be at least 90%.\n",
    "recall_lower_bound = 0.9\n",
    "\n",
    "# Create random \"ground truth\" parameters for a linear model.\n",
    "ground_truth_weights = np.random.normal(size=dimension) / math.sqrt(dimension)\n",
    "ground_truth_threshold = 0\n",
    "\n",
    "# Generate a random set of features for each example.\n",
    "features = np.random.normal(size=(num_examples, dimension)).astype(\n",
    "    np.float32) / math.sqrt(dimension)\n",
    "# Compute the labels from these features given the ground truth linear model.\n",
    "labels = (np.matmul(features, ground_truth_weights) >\n",
    "          ground_truth_threshold).astype(np.float32)\n",
    "# Add noise by randomly flipping num_mislabeled_examples labels.\n",
    "mislabeled_indices = np.random.choice(\n",
    "    num_examples, num_mislabeled_examples, replace=False)\n",
    "labels[mislabeled_indices] = 1 - labels[mislabeled_indices]"
   ]
  },
  {
   "cell_type": "code",
   "execution_count": 3,
   "metadata": {},
   "outputs": [],
   "source": [
    "# Create variables containing the model parameters.\n",
    "weights = tf.Variable(tf.zeros(dimension), dtype=tf.float32, name=\"weights\")\n",
    "threshold = tf.Variable(0.0, dtype=tf.float32, name=\"threshold\")\n",
    "\n",
    "# Create the optimization problem.\n",
    "constant_labels = tf.constant(labels, dtype=tf.float32)\n",
    "constant_features = tf.constant(features, dtype=tf.float32)\n",
    "\n",
    "def predictions():\n",
    "    return tf.tensordot(constant_features, weights, axes=(1, 0)) - threshold"
   ]
  },
  {
   "cell_type": "code",
   "execution_count": 4,
   "metadata": {},
   "outputs": [],
   "source": [
    "# Like the predictions, in eager mode, the labels should be a nullary function\n",
    "# returning a Tensor. In graph mode, you can drop the lambda.\n",
    "context = tfco.rate_context(predictions, labels=lambda: constant_labels)\n",
    "problem = tfco.RateMinimizationProblem(\n",
    "    tfco.error_rate(context), [tfco.recall(context) >= recall_lower_bound])"
   ]
  },
  {
   "cell_type": "code",
   "execution_count": 5,
   "metadata": {},
   "outputs": [],
   "source": [
    "def average_hinge_loss(labels, predictions):\n",
    "    # Recall that the labels are binary (0 or 1).\n",
    "    signed_labels = (labels * 2) - 1\n",
    "    return np.mean(np.maximum(0.0, 1.0 - signed_labels * predictions))\n",
    "\n",
    "def recall(labels, predictions):\n",
    "    # Recall that the labels are binary (0 or 1).\n",
    "    positive_count = np.sum(labels)\n",
    "    true_positives = labels * (predictions > 0)\n",
    "    true_positive_count = np.sum(true_positives)\n",
    "    return true_positive_count / positive_count"
   ]
  },
  {
   "cell_type": "code",
   "execution_count": 7,
   "metadata": {},
   "outputs": [
    {
     "name": "stdout",
     "output_type": "stream",
     "text": [
      "Eager execution enabled by default.\n",
      "TensorFlow 2.4.0\n"
     ]
    }
   ],
   "source": [
    "## Enable eager execution\n",
    "if tf.__version__ < \"2.0.0\":\n",
    "    tf.compat.v1.enable_eager_execution()\n",
    "    print(\"Eager execution enabled.\")\n",
    "else:\n",
    "    print(\"Eager execution enabled by default.\")\n",
    "\n",
    "print(\"TensorFlow \" + tf.__version__)"
   ]
  },
  {
   "cell_type": "code",
   "execution_count": 9,
   "metadata": {},
   "outputs": [
    {
     "name": "stdout",
     "output_type": "stream",
     "text": [
      "[]\n",
      "[<tf.Variable 'tfco_proxy_lagrangian_state:0' shape=(2, 2) dtype=float32, numpy=\n",
      "array([[-5.0012505e-04, -5.0012505e-04],\n",
      "       [-7.6009026e+00, -7.6009026e+00]], dtype=float32)>]\n",
      "Constrained average hinge loss = 0.756315\n",
      "Constrained recall = 0.901010\n"
     ]
    }
   ],
   "source": [
    "optimizer = tfco.ProxyLagrangianOptimizerV2(\n",
    "    optimizer=tf.keras.optimizers.Adagrad(learning_rate=1.0),\n",
    "    num_constraints=problem.num_constraints)\n",
    "# In addition to the model parameters (weights and threshold), we also need to\n",
    "# optimize over any trainable variables associated with the problem (e.g.\n",
    "# implicit slack variables and weight denominators), and those associated with\n",
    "# the optimizer (the analogues of the Lagrange multipliers used by the\n",
    "# proxy-Lagrangian formulation).\n",
    "var_list = ([weights, threshold] + list(problem.trainable_variables) +\n",
    "          optimizer.trainable_variables())\n",
    "\n",
    "print(list(problem.trainable_variables))\n",
    "print(optimizer.trainable_variables())\n",
    "\n",
    "for ii in xrange(1000):\n",
    "    optimizer.minimize(problem, var_list=var_list)\n",
    "\n",
    "trained_weights = weights.numpy()\n",
    "trained_threshold = threshold.numpy()\n",
    "\n",
    "trained_predictions = np.matmul(features, trained_weights) - trained_threshold\n",
    "print(\"Constrained average hinge loss = %f\" %\n",
    "      average_hinge_loss(labels, trained_predictions))\n",
    "print(\"Constrained recall = %f\" % recall(labels, trained_predictions))"
   ]
  },
  {
   "cell_type": "code",
   "execution_count": null,
   "metadata": {},
   "outputs": [],
   "source": []
  }
 ],
 "metadata": {
  "kernelspec": {
   "display_name": "Python 3",
   "language": "python",
   "name": "python3"
  },
  "language_info": {
   "codemirror_mode": {
    "name": "ipython",
    "version": 3
   },
   "file_extension": ".py",
   "mimetype": "text/x-python",
   "name": "python",
   "nbconvert_exporter": "python",
   "pygments_lexer": "ipython3",
   "version": "3.7.4"
  }
 },
 "nbformat": 4,
 "nbformat_minor": 4
}
